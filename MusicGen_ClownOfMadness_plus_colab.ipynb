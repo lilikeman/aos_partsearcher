{
  "cells": [
    {
      "cell_type": "markdown",
      "metadata": {
        "id": "view-in-github",
        "colab_type": "text"
      },
      "source": [
        "<a href=\"https://colab.research.google.com/github/lilikeman/aos_partsearcher/blob/main/MusicGen_ClownOfMadness_plus_colab.ipynb\" target=\"_parent\"><img src=\"https://colab.research.google.com/assets/colab-badge.svg\" alt=\"Open In Colab\"/></a>"
      ]
    },
    {
      "cell_type": "code",
      "execution_count": null,
      "metadata": {
        "id": "ruE2LWt_jeUL"
      },
      "outputs": [],
      "source": [
        "%cd /content\n",
        "!git clone -b plus https://github.com/ClownOfMadness/audiocraft_plus\n",
        "%cd /content/audiocraft_plus\n",
        "!pip install -r requirements.txt\n",
        "!python app.py --share"
      ]
    }
  ],
  "metadata": {
    "accelerator": "GPU",
    "colab": {
      "gpuType": "T4",
      "provenance": [],
      "include_colab_link": true
    },
    "kernelspec": {
      "display_name": "Python 3",
      "name": "python3"
    },
    "language_info": {
      "name": "python"
    }
  },
  "nbformat": 4,
  "nbformat_minor": 0
}